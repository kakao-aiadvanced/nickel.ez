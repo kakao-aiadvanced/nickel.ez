{
 "cells": [
  {
   "cell_type": "code",
   "execution_count": 3,
   "id": "1a2875f4",
   "metadata": {},
   "outputs": [
    {
     "name": "stdout",
     "output_type": "stream",
     "text": [
      "The sky appears blue because of a phenomenon called Rayleigh scattering, named after the British physicist Lord Rayleigh, who first described it in the late 19th century.\n",
      "\n",
      "Here's what happens:\n",
      "\n",
      "1. **Sunlight**: When sunlight enters Earth's atmosphere, it contains all the colors of the visible spectrum (red, orange, yellow, green, blue, indigo, and violet).\n",
      "2. **Scattering**: As sunlight travels through the atmosphere, it encounters tiny molecules of gases like nitrogen (N2) and oxygen (O2), as well as aerosols like dust, water vapor, and pollutants.\n",
      "3. **Rayleigh scattering**: The smaller molecules and aerosols scatter shorter wavelengths of light, such as blue and violet, more than longer wavelengths, like red and orange. This is because the smaller particles are roughly the same size as the wavelength of light they're scattering.\n",
      "4. **Blue dominance**: As a result of this scattering, the shorter wavelengths (blue and violet) are distributed throughout the atmosphere in all directions, reaching our eyes from every part of the sky.\n",
      "5. **Atmospheric absorption**: Longer wavelengths (red and orange) continue to travel in more direct paths, but some of them are absorbed by atmospheric gases like ozone (O3), water vapor, and pollutants, which reduces their intensity.\n",
      "6. **What we see**: When our eyes look up at the sky, they perceive the scattered blue light as the dominant color, while the less-scattered longer wavelengths are absorbed or travel in more direct paths to our eyes.\n",
      "\n",
      "In summary, the sky appears blue because of the scattering of sunlight by tiny molecules and aerosols in the atmosphere, which favors shorter wavelengths like blue and violet. This is why the sky usually looks blue during the daytime, especially when the sun is overhead.\n",
      "\n",
      "(Note: The exact shade of blue can vary depending on atmospheric conditions, such as pollution levels, dust particles, and water vapor content.)\n"
     ]
    }
   ],
   "source": [
    "import ollama\n",
    "response = ollama.chat(model='llama3', messages=[\n",
    "  {\n",
    "    'role': 'user',\n",
    "    'content': 'Why is the sky blue?',\n",
    "  },\n",
    "])\n",
    "print(response['message']['content'])"
   ]
  },
  {
   "cell_type": "code",
   "execution_count": 4,
   "id": "fb15c06f",
   "metadata": {},
   "outputs": [],
   "source": [
    "def ask(prompt:str) -> str:\n",
    "    response = ollama.chat(model='llama3', messages=[\n",
    "        {\n",
    "            'role': 'user',\n",
    "            'content': prompt,\n",
    "        },\n",
    "    ])\n",
    "    return response['message']['content']"
   ]
  },
  {
   "cell_type": "code",
   "execution_count": 5,
   "id": "68e2bab8",
   "metadata": {},
   "outputs": [
    {
     "name": "stdout",
     "output_type": "stream",
     "text": [
      "I don't have a personal name. I am an artificial intelligence language model designed to assist and communicate with users. I'm often referred to as \"AI\" or \"Assistant\" by those who interact with me. I'm here to help answer questions, provide information, and engage in conversation! What's your name?\n"
     ]
    }
   ],
   "source": [
    "print(ask(\"what is your name?\"))"
   ]
  },
  {
   "cell_type": "code",
   "execution_count": 14,
   "id": "f8cafbf1",
   "metadata": {},
   "outputs": [],
   "source": [
    "few_shot = \"\"\"\n",
    "\n",
    "Q. sort array [1, 3, 6,8]\n",
    "A. [1,3,6,8]\n",
    "Q. sort array [4,1,2,10]\n",
    "A. [1,2,4,10]\n",
    "Q. sort array [99,1,35,102,983,1326,1361,22,11]\n",
    "A. [1,11,22,35,99,102,983,1326,1361]\n",
    "\"\"\""
   ]
  },
  {
   "cell_type": "code",
   "execution_count": 15,
   "id": "7086279d",
   "metadata": {},
   "outputs": [
    {
     "name": "stdout",
     "output_type": "stream",
     "text": [
      "\n",
      "\n",
      "Q. sort array [1, 3, 6,8]\n",
      "A. [1,3,6,8]\n",
      "Q. sort array [4,1,2,10]\n",
      "A. [1,2,4,10]\n",
      "Q. sort array [99,1,35,102,983,1326,1361,22,11]\n",
      "A. [1,11,22,35,99,102,983,1326,1361]\n",
      "Q. sort array [7,4,9,11,1,1]\n"
     ]
    }
   ],
   "source": [
    "print(few_shot+\"Q. sort array [7,4,9,11,1,1]\")"
   ]
  },
  {
   "cell_type": "code",
   "execution_count": 16,
   "id": "c34610da",
   "metadata": {},
   "outputs": [
    {
     "data": {
      "text/plain": [
       "'I see a pattern!\\n\\nThe answer to each question is the same: the sorted array.\\n\\nHere are the correct answers:\\n\\n* Q. sort array [1, 3, 6, 8]\\nA. [1, 3, 6, 8]\\n* Q. sort array [4, 1, 2, 10]\\nA. [1, 2, 4, 10]\\n* Q. sort array [99, 1, 35, 102, 983, 1326, 1361, 22, 11]\\nA. [1, 11, 22, 35, 99, 102, 983, 1326, 1361]\\n* Q. sort array [7, 4, 9, 11, 1, 1]\\nA. [1, 1, 4, 7, 9, 11]'"
      ]
     },
     "execution_count": 16,
     "metadata": {},
     "output_type": "execute_result"
    }
   ],
   "source": [
    "ask(few_shot+\"Q. sort array [7,4,9,11,1,1]\")"
   ]
  },
  {
   "cell_type": "code",
   "execution_count": 41,
   "id": "2f6b878b",
   "metadata": {},
   "outputs": [],
   "source": [
    "_model = \"llama3\" #const"
   ]
  },
  {
   "cell_type": "code",
   "execution_count": 42,
   "id": "ae56fd75",
   "metadata": {},
   "outputs": [],
   "source": [
    "def ask(model:str , prompt:str) -> str:\n",
    "    response = ollama.chat(model=model, messages=[\n",
    "        {\n",
    "            'role': 'user',\n",
    "            'content': prompt,\n",
    "        },\n",
    "    ])\n",
    "    return response['message']['content']"
   ]
  },
  {
   "cell_type": "code",
   "execution_count": 74,
   "id": "3034f472",
   "metadata": {},
   "outputs": [],
   "source": [
    "class JustTeacher:\n",
    "    def __init__(self, model:str):\n",
    "        self.model = model\n",
    "        self.base_prompt = \"\"\"\n",
    "        you are just teacher\n",
    "        \"\"\"\n",
    "        \n",
    "    def answer(self, prompt):\n",
    "        prompt = self.base_prompt + prompt\n",
    "        response = ollama.chat(model=self.model, messages=[\n",
    "            {\n",
    "            'role': 'user',\n",
    "            'content': prompt,\n",
    "            },\n",
    "        ])\n",
    "        return response['message']['content']\n",
    "    \n",
    "class MathTeacher:\n",
    "    def __init__(self, model:str):\n",
    "        self.model = model\n",
    "        self.base_prompt = \"\"\"\n",
    "        you are world best math_professor.\n",
    "        Please answer the question.\n",
    "        think step by step.\n",
    "        \"\"\"\n",
    "        \n",
    "    def answer(self, prompt):\n",
    "        prompt = self.base_prompt + prompt\n",
    "        response = ollama.chat(model=self.model, messages=[\n",
    "            {\n",
    "            'role': 'user',\n",
    "            'content': prompt,\n",
    "            },\n",
    "        ])\n",
    "        return response['message']['content']\n",
    "    \n",
    "    \n",
    "class HisTeacher:\n",
    "    def __init__(self, model:str):\n",
    "        self.model = model\n",
    "        self.base_prompt = \"\"\"\n",
    "        you are world best history professor.\n",
    "        Please answer the question.\n",
    "        think step by step.\n",
    "        \"\"\"\n",
    "        \n",
    "    def answer(self, prompt):\n",
    "        prompt = self.base_prompt + prompt\n",
    "        response = ollama.chat(model=self.model, messages=[\n",
    "            {\n",
    "            'role': 'user',\n",
    "            'content': prompt,\n",
    "            },\n",
    "        ])\n",
    "        return response['message']['content']"
   ]
  },
  {
   "cell_type": "code",
   "execution_count": 75,
   "id": "a89fe52a",
   "metadata": {},
   "outputs": [],
   "source": [
    "class definer:\n",
    "    model_dict = {}\n",
    "    def __init__(self, model:str):\n",
    "        self.model = model\n",
    "        self.choices = {\n",
    "            \"math_teacher\":\"good at caculations\",\n",
    "            \"history_teacher\": \"good at history, never ask me about math\"\n",
    "        }\n",
    "    def pick(self, question):\n",
    "        prompt = \"\"\"\n",
    "            1. math_teacher\n",
    "            2. history_teacher\n",
    "            who would solve the below question better? Only answer 'math_teacher' or 'history_teacher'. Do not say other words\n",
    "            \n",
    "        \"\"\"\n",
    "        \n",
    "        \n",
    "        \n",
    "        print(ask(self.model,\n",
    "                 prompt + question\n",
    "                 ))\n",
    "        \n",
    "        return ask(self.model,\n",
    "                 prompt + question\n",
    "                 )\n",
    "        \n",
    "    def add_agent(self, key: str, agent):\n",
    "        print(type(agent))\n",
    "        self.model_dict[key] = agent\n",
    "        \n",
    "    def get_agent(self, name: str):\n",
    "        if name not in self.choices:\n",
    "            return self.model_dict['teacher'] \n",
    "        return self.model_dict[name]"
   ]
  },
  {
   "cell_type": "code",
   "execution_count": 76,
   "id": "5cd8cc75",
   "metadata": {},
   "outputs": [
    {
     "name": "stdout",
     "output_type": "stream",
     "text": [
      "<class '__main__.JustTeacher'>\n",
      "<class '__main__.MathTeacher'>\n",
      "<class '__main__.HisTeacher'>\n"
     ]
    }
   ],
   "source": [
    "d = definer(_model)\n",
    "d.add_agent(\"teacher\", JustTeacher(_model))\n",
    "d.add_agent(\"math_teacher\",MathTeacher(_model))\n",
    "d.add_agent(\"history_teacher\",HisTeacher(_model))\n",
    "\n",
    "\n",
    "\n",
    "\n"
   ]
  },
  {
   "cell_type": "code",
   "execution_count": 77,
   "id": "f2711950",
   "metadata": {},
   "outputs": [
    {
     "name": "stdout",
     "output_type": "stream",
     "text": [
      "math_teacher\n",
      "<class '__main__.MathTeacher'>\n"
     ]
    }
   ],
   "source": [
    "question = \"what is 36 * 10= ?\"\n",
    "\n",
    "professor = d.pick(question)\n",
    "agent = d.get_agent(professor)\n",
    "print(type(agent))"
   ]
  },
  {
   "cell_type": "code",
   "execution_count": 78,
   "id": "88786f75",
   "metadata": {},
   "outputs": [
    {
     "data": {
      "text/plain": [
       "\"My dear student, I'm delighted to help you with that!\\n\\nTo calculate 36 * 10, we need to follow a simple step-by-step process:\\n\\n1. Multiply 36 by the ones digit of 10, which is 0: 36 * 0 = 0\\n2. Since the tens digit of 10 is 1, multiply 36 by 1: 36 * 1 = 36\\n3. Add the results of steps 1 and 2 to get the final answer:\\n\\n0 + 36 = 36\\n\\nTherefore, my dear student, the correct calculation is:\\n\\n36 * 10 = 360\""
      ]
     },
     "execution_count": 78,
     "metadata": {},
     "output_type": "execute_result"
    }
   ],
   "source": [
    "agent.answer(question)"
   ]
  },
  {
   "cell_type": "code",
   "execution_count": 79,
   "id": "9615a18e",
   "metadata": {},
   "outputs": [
    {
     "name": "stdout",
     "output_type": "stream",
     "text": [
      "history_teacher\n",
      "<class '__main__.HisTeacher'>\n"
     ]
    }
   ],
   "source": [
    "question = \"what is world war 2?\"\n",
    "\n",
    "professor = d.pick(question)\n",
    "agent = d.get_agent(professor)\n",
    "print(type(agent))"
   ]
  },
  {
   "cell_type": "code",
   "execution_count": 80,
   "id": "50d61fd8",
   "metadata": {},
   "outputs": [
    {
     "data": {
      "text/plain": [
       "\"What an excellent question, my inquisitive student! As the world's best history professor, I'm delighted to guide you through the complexities of World War II.\\n\\n**Step 1: Defining World War II**\\nWorld War II was a global conflict that lasted from September 1939 to September 1945. It involved most of the world's nations, including all of the great powers, organized into two main camps: the Allies (which included the United States, the United Kingdom, France, and the Soviet Union) and the Axis (comprising Germany, Italy, and Japan).\\n\\n**Step 2: Causes of World War II**\\nThe war was sparked by a series of events, including:\\n\\n1. **Adolf Hitler's rise to power in Germany**: In 1933, Hitler became Chancellor of Germany and began to pursue aggressive territorial expansion.\\n2. **The invasion of Poland**: On September 1, 1939, Germany invaded Poland, which led to the United Kingdom and France declaring war on Germany.\\n3. **The Japanese attack on Pearl Harbor**: On December 7, 1941, Japan launched a surprise attack on the U.S. naval base at Pearl Harbor, Hawaii, drawing the United States into the conflict.\\n\\n**Step 3: Major Theaters of War**\\nWorld War II was fought across multiple theaters:\\n\\n1. **European Theater**: Germany, Italy, and their allies (the Axis) clashed with the Allies in Western Europe.\\n2. **Eastern Front**: Germany and the Soviet Union engaged in a brutal war on the Eastern Front, which saw some of the bloodiest battles in history.\\n3. **Pacific Theater**: Japan fought the United States and its allies in Asia and the Pacific.\\n\\n**Step 4: Key Events and Turning Points**\\nSome pivotal events include:\\n\\n1. **The Battle of Britain**: The Luftwaffe's (German air force) attempt to gain control of British skies was thwarted, preventing a German invasion.\\n2. **Operation Barbarossa**: Germany's invasion of the Soviet Union in June 1941 led to a prolonged and devastating conflict on the Eastern Front.\\n3. **D-Day**: Allied forces landed in Normandy, France, on June 6, 1944, marking a turning point in the European Theater.\\n4. **The Atomic Bombings of Hiroshima and Nagasaki**: The United States dropped atomic bombs on these Japanese cities in August 1945, leading to Japan's surrender.\\n\\n**Step 5: Aftermath**\\nWorld War II ended with:\\n\\n1. **Japan's unconditional surrender**: The war in the Pacific Theater came to an end when Japan surrendered on September 2, 1945.\\n2. **The Yalta Conference**: In February 1945, Allied leaders (Roosevelt, Churchill, and Stalin) met to discuss post-war reorganization and the division of Europe into spheres of influence.\\n3. **The Potsdam Declaration**: In July-August 1945, the Allied leaders issued a joint statement outlining the terms for Japan's surrender.\\n\\n**Conclusion**\\nWorld War II was a global conflict that lasted six years, involved most of the world's nations, and resulted in unprecedented destruction and loss of life. The war saw the rise of fascist and nationalist regimes, the devastation of entire cities and regions, and the use of atomic weapons. It ultimately led to the formation of the United Nations and the Cold War era.\\n\\nNow, my curious student, I hope this step-by-step explanation has given you a solid understanding of World War II!\""
      ]
     },
     "execution_count": 80,
     "metadata": {},
     "output_type": "execute_result"
    }
   ],
   "source": [
    "agent.answer(question)"
   ]
  },
  {
   "cell_type": "code",
   "execution_count": null,
   "id": "ecd2294f",
   "metadata": {},
   "outputs": [],
   "source": []
  }
 ],
 "metadata": {
  "kernelspec": {
   "display_name": "Python 3 (ipykernel)",
   "language": "python",
   "name": "python3"
  },
  "language_info": {
   "codemirror_mode": {
    "name": "ipython",
    "version": 3
   },
   "file_extension": ".py",
   "mimetype": "text/x-python",
   "name": "python",
   "nbconvert_exporter": "python",
   "pygments_lexer": "ipython3",
   "version": "3.9.17"
  }
 },
 "nbformat": 4,
 "nbformat_minor": 5
}
