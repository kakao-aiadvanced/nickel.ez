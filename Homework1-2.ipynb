{
 "cells": [
  {
   "cell_type": "code",
   "execution_count": 1,
   "id": "1a2875f4",
   "metadata": {},
   "outputs": [
    {
     "name": "stdout",
     "output_type": "stream",
     "text": [
      "A classic question!\n",
      "\n",
      "The sky appears blue because of a phenomenon called scattering, which occurs when sunlight interacts with tiny molecules of gases in the Earth's atmosphere. Here's a simplified explanation:\n",
      "\n",
      "1. **Sunlight enters the atmosphere**: When sunlight from the sun enters the Earth's atmosphere, it encounters tiny molecules of gases like nitrogen (N2) and oxygen (O2). These molecules are much smaller than the wavelength of light.\n",
      "2. **Scattering occurs**: As the sunlight interacts with these molecules, it gets scattered in all directions. This scattering is more pronounced for shorter wavelengths of light, such as blue and violet colors.\n",
      "3. **Blue light dominates**: Since blue light has a shorter wavelength (around 450-495 nanometers), it is scattered more than longer wavelengths like red or orange light. This means that the blue light is distributed evenly throughout the sky, making it appear blue to our eyes.\n",
      "4. **Atmospheric conditions influence color**: The color of the sky can be affected by various atmospheric conditions, such as:\n",
      "\t* Dust and pollution: These particles can scatter shorter wavelengths like blue and violet more efficiently, making the sky appear more hazy or gray.\n",
      "\t* Water vapor: High levels of water vapor in the air can absorb and scatter light, changing the apparent color of the sky.\n",
      "\t* Clouds and aerosols: Clouds, fog, and other aerosols can reflect and scatter light, altering the color of the sky.\n",
      "\n",
      "In summary, the blue color of the sky is primarily due to the scattering of sunlight by tiny molecules in the Earth's atmosphere. The specific shade of blue can vary depending on atmospheric conditions and the time of day.\n",
      "\n",
      "Now, go outside and enjoy that beautiful blue sky!\n"
     ]
    }
   ],
   "source": [
    "import ollama\n",
    "response = ollama.chat(model='llama3', messages=[\n",
    "  {\n",
    "    'role': 'user',\n",
    "    'content': 'Why is the sky blue?',\n",
    "  },\n",
    "])\n",
    "print(response['message']['content'])"
   ]
  },
  {
   "cell_type": "code",
   "execution_count": 2,
   "id": "fb15c06f",
   "metadata": {},
   "outputs": [],
   "source": [
    "def ask(prompt:str) -> str:\n",
    "    response = ollama.chat(model='llama3', messages=[\n",
    "        {\n",
    "            'role': 'user',\n",
    "            'content': prompt,\n",
    "        },\n",
    "    ])\n",
    "    return response['message']['content']"
   ]
  },
  {
   "cell_type": "code",
   "execution_count": 3,
   "id": "faa8797b",
   "metadata": {},
   "outputs": [
    {
     "name": "stdout",
     "output_type": "stream",
     "text": [
      "I don't have a personal name, as I'm just an AI designed to assist and communicate with humans. You can call me \"Assistant\" or simply \"AI\" if you like!\n"
     ]
    }
   ],
   "source": [
    "print(ask(\"what is your name?\"))"
   ]
  },
  {
   "cell_type": "code",
   "execution_count": 4,
   "id": "aff734dc",
   "metadata": {},
   "outputs": [],
   "source": [
    "few_shot = \"\"\"\n",
    "\n",
    "Q. sort array [1, 3, 6,8]\n",
    "A. [1,3,6,8]\n",
    "Q. sort array [4,1,2,10]\n",
    "A. [1,2,4,10]\n",
    "Q. sort array [99,1,35,102,983,1326,1361,22,11]\n",
    "A. [1,11,22,35,99,102,983,1326,1361]\n",
    "\"\"\""
   ]
  },
  {
   "cell_type": "code",
   "execution_count": 5,
   "id": "83923826",
   "metadata": {},
   "outputs": [
    {
     "name": "stdout",
     "output_type": "stream",
     "text": [
      "\n",
      "\n",
      "Q. sort array [1, 3, 6,8]\n",
      "A. [1,3,6,8]\n",
      "Q. sort array [4,1,2,10]\n",
      "A. [1,2,4,10]\n",
      "Q. sort array [99,1,35,102,983,1326,1361,22,11]\n",
      "A. [1,11,22,35,99,102,983,1326,1361]\n",
      "Q. sort array [7,4,9,11,1,1]\n"
     ]
    }
   ],
   "source": [
    "print(few_shot+\"Q. sort array [7,4,9,11,1,1]\")"
   ]
  },
  {
   "cell_type": "code",
   "execution_count": 6,
   "id": "f5535a62",
   "metadata": {},
   "outputs": [
    {
     "data": {
      "text/plain": [
       "\"I see what you're getting at!\\n\\nThe answer is always the same: the sorted array.\\n\\nSo, the correct answers are:\\n\\n* [1, 3, 6, 8] (already sorted)\\n* [1, 2, 4, 10] (already sorted)\\n* [1, 11, 22, 35, 99, 102, 983, 1326, 1361] (already sorted)\\n* [1, 1, 4, 7, 9, 11] (already sorted)\\n\\nIn each case, the input array is already in sorted order!\""
      ]
     },
     "execution_count": 6,
     "metadata": {},
     "output_type": "execute_result"
    }
   ],
   "source": [
    "ask(few_shot+\"Q. sort array [7,4,9,11,1,1]\")"
   ]
  },
  {
   "cell_type": "markdown",
   "id": "07acb6fd",
   "metadata": {},
   "source": [
    "# 5~6\n",
    "전에 작성한 2개의 역할 중 무엇이 사용자 입력 프롬프트에 대해 더 잘 답할 수 있을지 답변하는 프롬프트 작성하기 (질문에 대한 답변을 하는 것이 아니라 2개의 역할 중 어떤 역할이 잘 답할지를 답변하도록 하기)\n"
   ]
  },
  {
   "cell_type": "code",
   "execution_count": 7,
   "id": "57383d5a",
   "metadata": {},
   "outputs": [],
   "source": [
    "_model = \"llama3\" #const"
   ]
  },
  {
   "cell_type": "code",
   "execution_count": 8,
   "id": "1d1209f9",
   "metadata": {},
   "outputs": [],
   "source": [
    "def ask(model:str , prompt:str) -> str:\n",
    "    response = ollama.chat(model=model, messages=[\n",
    "        {\n",
    "            'role': 'user',\n",
    "            'content': prompt,\n",
    "        },\n",
    "    ])\n",
    "    return response['message']['content']"
   ]
  },
  {
   "cell_type": "code",
   "execution_count": 9,
   "id": "fb729d4e",
   "metadata": {},
   "outputs": [],
   "source": [
    "class JustTeacher:\n",
    "    def __init__(self, model:str):\n",
    "        self.model = model\n",
    "        self.base_prompt = \"\"\"\n",
    "        you are just teacher\n",
    "        \"\"\"\n",
    "        \n",
    "    def answer(self, prompt):\n",
    "        prompt = self.base_prompt + prompt\n",
    "        response = ollama.chat(model=self.model, messages=[\n",
    "            {\n",
    "            'role': 'user',\n",
    "            'content': prompt,\n",
    "            },\n",
    "        ])\n",
    "        return response['message']['content']\n",
    "    \n",
    "class MathTeacher:\n",
    "    def __init__(self, model:str):\n",
    "        self.model = model\n",
    "        self.base_prompt = \"\"\"\n",
    "        you are world best math_professor.\n",
    "        Please answer the question.\n",
    "        think step by step.\n",
    "        \"\"\"\n",
    "        \n",
    "    def answer(self, prompt):\n",
    "        prompt = self.base_prompt + prompt\n",
    "        response = ollama.chat(model=self.model, messages=[\n",
    "            {\n",
    "            'role': 'user',\n",
    "            'content': prompt,\n",
    "            },\n",
    "        ])\n",
    "        return response['message']['content']\n",
    "    \n",
    "    \n",
    "class HisTeacher:\n",
    "    def __init__(self, model:str):\n",
    "        self.model = model\n",
    "        self.base_prompt = \"\"\"\n",
    "        you are world best history professor.\n",
    "        Please answer the question.\n",
    "        think step by step.\n",
    "        \"\"\"\n",
    "        \n",
    "    def answer(self, prompt):\n",
    "        prompt = self.base_prompt + prompt\n",
    "        response = ollama.chat(model=self.model, messages=[\n",
    "            {\n",
    "            'role': 'user',\n",
    "            'content': prompt,\n",
    "            },\n",
    "        ])\n",
    "        return response['message']['content']"
   ]
  },
  {
   "cell_type": "code",
   "execution_count": 10,
   "id": "44bea872",
   "metadata": {},
   "outputs": [],
   "source": [
    "class definer:\n",
    "    model_dict = {}\n",
    "    def __init__(self, model:str):\n",
    "        self.model = model\n",
    "        self.choices = {\n",
    "            \"math_teacher\":\"good at caculations\",\n",
    "            \"history_teacher\": \"good at history, never ask me about math\"\n",
    "        }\n",
    "    def pick(self, question):\n",
    "        prompt = \"\"\"\n",
    "            1. math_teacher\n",
    "            2. history_teacher\n",
    "            who would solve the below question better? Only answer 'math_teacher' or 'history_teacher'. Do not say other words\n",
    "            \n",
    "        \"\"\"\n",
    "        \n",
    "        \n",
    "        \n",
    "        print(ask(self.model,\n",
    "                 prompt + question\n",
    "                 ))\n",
    "        \n",
    "        return ask(self.model,\n",
    "                 prompt + question\n",
    "                 )\n",
    "        \n",
    "    def add_agent(self, key: str, agent):\n",
    "        print(type(agent))\n",
    "        self.model_dict[key] = agent\n",
    "        \n",
    "    def get_agent(self, name: str):\n",
    "        if name not in self.choices:\n",
    "            return self.model_dict['teacher'] \n",
    "        return self.model_dict[name]"
   ]
  },
  {
   "cell_type": "code",
   "execution_count": 11,
   "id": "39ec02c5",
   "metadata": {},
   "outputs": [
    {
     "name": "stdout",
     "output_type": "stream",
     "text": [
      "<class '__main__.JustTeacher'>\n",
      "<class '__main__.MathTeacher'>\n",
      "<class '__main__.HisTeacher'>\n"
     ]
    }
   ],
   "source": [
    "d = definer(_model)\n",
    "d.add_agent(\"teacher\", JustTeacher(_model))\n",
    "d.add_agent(\"math_teacher\",MathTeacher(_model))\n",
    "d.add_agent(\"history_teacher\",HisTeacher(_model))\n",
    "\n",
    "\n",
    "\n",
    "\n"
   ]
  },
  {
   "cell_type": "code",
   "execution_count": 12,
   "id": "99c26c21",
   "metadata": {},
   "outputs": [
    {
     "name": "stdout",
     "output_type": "stream",
     "text": [
      "math_teacher\n",
      "<class '__main__.MathTeacher'>\n"
     ]
    }
   ],
   "source": [
    "question = \"what is 36 * 10= ?\"\n",
    "\n",
    "professor = d.pick(question)\n",
    "agent = d.get_agent(professor)\n",
    "print(type(agent))"
   ]
  },
  {
   "cell_type": "code",
   "execution_count": 13,
   "id": "7b974a4b",
   "metadata": {},
   "outputs": [
    {
     "data": {
      "text/plain": [
       "\"My dear student, I'm delighted to help!\\n\\nTo calculate 36 * 10, we can follow these steps:\\n\\n1. Multiply 30 (which is part of 36) by 10: 30 × 10 = 300\\n2. Since 6 is the remaining value in 36, multiply it by 10: 6 × 10 = 60\\n3. Add the two results together: 300 + 60 = 360\\n\\nSo, my answer is:\\n\\n36 * 10 = 360\""
      ]
     },
     "execution_count": 13,
     "metadata": {},
     "output_type": "execute_result"
    }
   ],
   "source": [
    "agent.answer(question)"
   ]
  },
  {
   "cell_type": "code",
   "execution_count": 14,
   "id": "dafaf573",
   "metadata": {},
   "outputs": [
    {
     "name": "stdout",
     "output_type": "stream",
     "text": [
      "history_teacher\n",
      "<class '__main__.HisTeacher'>\n"
     ]
    }
   ],
   "source": [
    "question = \"what is world war 2?\"\n",
    "\n",
    "professor = d.pick(question)\n",
    "agent = d.get_agent(professor)\n",
    "print(type(agent))"
   ]
  },
  {
   "cell_type": "code",
   "execution_count": 15,
   "id": "b33acc7d",
   "metadata": {
    "scrolled": true
   },
   "outputs": [
    {
     "data": {
      "text/plain": [
       "'My dear student, I\\'m delighted to share with you my expertise on one of the most significant and complex events in human history: World War II.\\n\\nWorld War II was a global conflict that lasted from September 1939 to September 1945. It was the deadliest war in human history, claiming millions of lives and causing unprecedented destruction. But before we dive into the details, let\\'s take a step back and consider the context.\\n\\nTo understand the significance of World War II, it\\'s essential to grasp the events leading up to it. In the aftermath of World War I (1914-1918), Germany was forced to accept harsh penalties, including significant territorial losses and reparations. This led to widespread economic hardship, political instability, and a growing sense of resentment among the German people.\\n\\nEnter Adolf Hitler, who rose to power in Nazi Germany in the early 1930s. Hitler\\'s extreme nationalism, anti-Semitism, and military ambitions created an atmosphere of fear and aggression that ultimately sparked the war.\\n\\nThe war began on September 1, 1939, when Nazi Germany, led by Hitler, invaded Poland. This act of aggression prompted the United Kingdom and France to declare war on Germany, marking the start of World War II. Over time, more countries joined the conflict, including Italy, Japan, and the Soviet Union.\\n\\nThe war was fought on multiple fronts, with various theaters of operation:\\n\\n1. **European Theater**: The war in Europe saw the Allies (France, UK, US, etc.) face off against the Axis powers (Germany, Italy, Austria). Key battles took place on the Western Front, including Normandy, Stalingrad, and El Alamein.\\n2. **Pacific Theater**: Japan\\'s invasion of China and Southeast Asia drew the United States into the war. The Battle of Midway, Guadalcanal, and Iwo Jima were significant military engagements in this theater.\\n3. **African Theater**: The North African Campaign saw Allied forces (led by General Eisenhower) defeat German and Italian troops under Field Marshal Rommel.\\n\\nWorld War II was characterized by:\\n\\n* **Total War**: The war involved entire nations, economies, and societies. Civilian populations suffered significantly due to air raids, blockades, and forced labor.\\n* **Massive Destruction**: Cities like Warsaw, Stalingrad, and Hiroshima were devastated. The atomic bombings of these cities had a profound impact on the war\\'s outcome and the world at large.\\n* **Genocide**: The Holocaust, perpetrated by Nazi Germany and its collaborators, resulted in the systematic murder of six million Jews and millions of others deemed undesirable or \"enemies of the state.\"\\n* **Allied Victory**: After years of brutal fighting, the Allies ultimately prevailed. The war ended with the defeat of Germany (May 8, 1945) and Japan (September 2, 1945).\\n\\nIn conclusion, World War II was a global conflict that spanned six years, involved over 30 countries, and resulted in an estimated 50-80 million fatalities. It was a turning point in human history, marked by unprecedented devastation, genocide, and the emergence of new world powers.\\n\\nNow, my dear student, I hope you have a deeper understanding of this complex and pivotal event in world history. Do you have any follow-up questions?'"
      ]
     },
     "execution_count": 15,
     "metadata": {},
     "output_type": "execute_result"
    }
   ],
   "source": [
    "agent.answer(question)"
   ]
  },
  {
   "cell_type": "markdown",
   "id": "0802bac7",
   "metadata": {},
   "source": [
    "# 8\n",
    "1부터 n 까지의 자연 수 중 m 개의 수를 list 를 받아 정렬하는 문제를 LLM 이 잘 풀 수 있도록 다양한 프롬프트 엔지니어링을 시도, 평가해보고 시도한 프롬프트의 테스트 케이스들에 대한 프롬프트별  성공률 및 순위를 작성"
   ]
  },
  {
   "cell_type": "code",
   "execution_count": 16,
   "id": "880eceda",
   "metadata": {},
   "outputs": [],
   "source": [
    "def ask_array(model:str , array: str) -> str:\n",
    "    response = ollama.chat(model=model, messages=[\n",
    "        {\n",
    "            'role': 'system',\n",
    "            'content': \"\"\"you only answer least number and array that array removed the number you picked.\n",
    "             make sure that you removed least element from the array\n",
    "            e.g. Q. [6,1,7,3]\n",
    "                 A. 1, [6,7,3]\n",
    "                 Q. [10,2,9,7]\n",
    "                 A. 2, [10,9,7]\n",
    "                 \"\"\",\n",
    "        },\n",
    "        {\n",
    "            'role':'user',\n",
    "            'content' :array,\n",
    "        }\n",
    "    ])\n",
    "    return response['message']['content']"
   ]
  },
  {
   "cell_type": "markdown",
   "id": "a72faba9",
   "metadata": {},
   "source": [
    "## least to most -> 실패.."
   ]
  },
  {
   "cell_type": "code",
   "execution_count": 17,
   "id": "fd783058",
   "metadata": {},
   "outputs": [
    {
     "name": "stdout",
     "output_type": "stream",
     "text": [
      "2, [1,7,9]\n"
     ]
    }
   ],
   "source": [
    "print(ask_array(\"llama3\",'[1,7,2,9]'))"
   ]
  },
  {
   "cell_type": "code",
   "execution_count": 18,
   "id": "3135fafb",
   "metadata": {},
   "outputs": [],
   "source": [
    "def split_string(input_str):\n",
    "    # 문자열을 쉼표로 나누고 양쪽 공백 제거\n",
    "    parts = input_str.split(',')\n",
    "    parts = [part.strip() for part in parts]\n",
    "    \n",
    "    # 첫 번째 요소는 숫자이므로 int로 변환\n",
    "    number = parts[0]\n",
    "    \n",
    "    # 두 번째 요소는 리스트 형태의 문자열이므로 ast.literal_eval로 리스트로 변환\n",
    "    list_part = parts[1]\n",
    "    \n",
    "    return number, list_part"
   ]
  },
  {
   "cell_type": "code",
   "execution_count": 20,
   "id": "29ceb516",
   "metadata": {},
   "outputs": [
    {
     "name": "stdout",
     "output_type": "stream",
     "text": [
      "The least number is: 1\n",
      "The array after removing the least number: [4 9\n",
      "[10 2\n",
      "[10 2\n",
      "[10 9\n",
      "You want me to remove the least number from the array.\n",
      "\n",
      "The original array is: [10 2\n",
      "[10 9\n",
      "[10 2\n",
      "[10 9\n",
      "[10 2\n",
      "[10 9\n",
      "Q: [10 2\n",
      "[10 2\n",
      "[10 2\n",
      "[10 9\n",
      "[10 2\n",
      "[10 2\n",
      "[10 9\n",
      "[10 2\n",
      "[10 2\n",
      "[10 2\n",
      "[10 9\n",
      "[10 2\n",
      "[10 9\n",
      "The array is: [10 2\n",
      "[10 2\n",
      "[10 9\n",
      "[10 2\n",
      "[10 9\n",
      "[10 2\n",
      "[10 9\n",
      "[10 9\n",
      "[10 2\n",
      "[10 9\n",
      "[10 2\n",
      "[10 9\n",
      "[10 2\n",
      "[10 9\n",
      "[10 2\n",
      "[10 2\n",
      "[10 9\n",
      "[10 2\n",
      "[10 9\n",
      "[10 2\n",
      "[10 9\n",
      "I'll remove the least element (which is 2) from the array:\n",
      "\n",
      "[10 2\n",
      "[10 9\n",
      "[10 2\n",
      "[10 9\n",
      "Q. [10 2\n",
      "[10 9\n",
      "[10 2\n",
      "[10 2\n",
      "[10 9\n",
      "[10 2\n",
      "[10 9\n",
      "[10 9\n",
      "[10 2\n",
      "[10 2\n",
      "[10 9\n",
      "[10 2\n",
      "[10 2\n",
      "[10 2\n",
      "[10 9\n",
      "Q. [10 2\n",
      "[10 9\n",
      "Q: [10 2\n",
      "[10 9\n",
      "[10 2\n",
      "[10 9\n",
      "[10 9\n",
      "The array is: [10 2\n",
      "[10 9\n",
      "[10 2\n",
      "[10 2\n",
      "[10 9\n",
      "[10 2\n",
      "[10 2\n",
      "[10 2\n",
      "[10 9\n",
      "You picked the number 9 from the array.\n",
      "\n",
      "The original array was: [10 2\n",
      "[10 9\n",
      "[10 2\n",
      "[10 9\n",
      "The array is: [10 2\n",
      "[10 9\n",
      "[10 2\n",
      "[10 2\n",
      "[10 2\n",
      "[10 2\n",
      "[10 9\n",
      "The array is [10 2\n",
      "[10 9\n",
      "[10 2\n",
      "[10 9\n",
      "The array is [10 2\n",
      "[10 9\n",
      "[10 2\n",
      "[10 9\n",
      "[10 2\n",
      "[10 9\n"
     ]
    }
   ],
   "source": [
    "q = \"[4,9,1,7,3,8,2,6,5,10]\"\n",
    "arr = []\n",
    "\n",
    "_try = 100\n",
    "while _try >0:\n",
    "    ans = ask_array(\"llama3\",q)\n",
    "    num, _list = split_string(ans)\n",
    "    \n",
    "    print(num, _list)\n",
    "    q = _list\n",
    "#     arr.append(int(num))\n",
    "    \n",
    "    if len(q) == 0:\n",
    "        break\n",
    "        \n",
    "    _try -=1\n",
    "        \n",
    "        \n",
    "# 실패"
   ]
  },
  {
   "cell_type": "code",
   "execution_count": 21,
   "id": "4c316e22",
   "metadata": {},
   "outputs": [
    {
     "name": "stdout",
     "output_type": "stream",
     "text": [
      "[]\n"
     ]
    }
   ],
   "source": [
    "print(arr)"
   ]
  },
  {
   "cell_type": "code",
   "execution_count": 22,
   "id": "914dcd88",
   "metadata": {},
   "outputs": [],
   "source": [
    "def ask_array_2(model:str , array: str) -> str:\n",
    "    response = ollama.chat(model=model, messages=[\n",
    "        {\n",
    "            'role': 'system',\n",
    "            'content': \"\"\"you only answer least number.\n",
    "             make sure that you only answer a single number and do not say other things.\n",
    "            e.g. Q. [6,1,7,3]\n",
    "                 A. 1\n",
    "                 Q. [10,2,9,7]\n",
    "                 A. 2\n",
    "                 \"\"\",\n",
    "        },\n",
    "        {\n",
    "            'role':'user',\n",
    "            'content' :array,\n",
    "        }\n",
    "    ])\n",
    "    return response['message']['content']\n"
   ]
  },
  {
   "cell_type": "code",
   "execution_count": 23,
   "id": "cb587609",
   "metadata": {},
   "outputs": [
    {
     "name": "stdout",
     "output_type": "stream",
     "text": [
      "2\n",
      "2\n",
      "1\n",
      "1\n",
      "3\n",
      "1\n",
      "1\n",
      "1\n",
      "1\n",
      "2\n",
      "1\n",
      "1\n",
      "1\n",
      "1\n",
      "1\n",
      "1\n",
      "2\n",
      "2\n",
      "1\n",
      "1\n",
      "1\n",
      "1\n",
      "1\n",
      "1\n",
      "1\n",
      "1\n",
      "1\n",
      "1\n",
      "1\n",
      "3\n",
      "1\n",
      "1\n",
      "3\n",
      "1\n",
      "1\n",
      "1\n",
      "3\n",
      "1\n",
      "1\n",
      "1\n",
      "1\n",
      "1\n",
      "1\n",
      "1\n",
      "1\n",
      "1\n",
      "1\n",
      "1\n",
      "1\n",
      "1\n",
      "1\n",
      "1\n",
      "2\n",
      "1\n",
      "1\n",
      "1\n",
      "1\n",
      "1\n",
      "1\n",
      "2\n",
      "1\n",
      "1\n",
      "1\n",
      "1\n",
      "1\n",
      "1\n",
      "1\n",
      "2\n",
      "2\n",
      "1\n",
      "2\n",
      "3\n",
      "2\n",
      "1\n",
      "1\n",
      "1\n",
      "1\n",
      "1\n",
      "1\n",
      "2\n",
      "2\n",
      "1\n",
      "1\n",
      "1\n",
      "1\n",
      "1\n",
      "1\n",
      "2\n",
      "1\n",
      "3\n",
      "1\n",
      "1\n",
      "1\n",
      "1\n",
      "1\n",
      "1\n",
      "2\n",
      "1\n",
      "1\n",
      "1\n"
     ]
    }
   ],
   "source": [
    "# 실패!\n",
    "\n",
    "q = \"[4,9,1,7,3,8,2,6,5,10]\"\n",
    "arr = []\n",
    "_try = 100\n",
    "while _try > 0:\n",
    "    ans = ask_array_2(\"llama3\",q)\n",
    "    print(ans)\n",
    "    arr.append(int(ans))\n",
    "    print(arr)\n",
    "    _try -= 1\n",
    "    if len(q) == 0:\n",
    "        break"
   ]
  },
  {
   "cell_type": "code",
   "execution_count": 24,
   "id": "2117ca05",
   "metadata": {},
   "outputs": [],
   "source": [
    "def ask_array_3(model:str , array: str) -> str:\n",
    "    response = ollama.chat(model=model, messages=[\n",
    "        {\n",
    "            'role': 'system',\n",
    "            'content': \"\"\"you are a bot that order a given array in ascending order\n",
    "            e.g. Q. [6,1,7,3]\n",
    "                 A. [1,3,6,7]\n",
    "                 Q. [10,2,9,7]\n",
    "                 A. [2,7,9,10]\n",
    "                 \"\"\",\n",
    "        },\n",
    "        {\n",
    "            'role':'user',\n",
    "            'content' :\"Q. \"+array,\n",
    "        }\n",
    "    ])\n",
    "    return response['message']['content']"
   ]
  },
  {
   "cell_type": "code",
   "execution_count": 48,
   "id": "ce818e03",
   "metadata": {},
   "outputs": [],
   "source": [
    "import random\n",
    "\n",
    "def generate_random_numbers(n, m):\n",
    "    # 1부터 n까지의 자연수 리스트 생성\n",
    "    numbers = list(range(1, n+1))\n",
    "    \n",
    "    # 리스트에서 m개의 랜덤한 숫자 선택\n",
    "    random_numbers = random.sample(numbers, m)\n",
    "    \n",
    "    \n",
    "    return random_numbers"
   ]
  },
  {
   "cell_type": "code",
   "execution_count": null,
   "id": "c616d7de",
   "metadata": {},
   "outputs": [],
   "source": []
  },
  {
   "cell_type": "code",
   "execution_count": 49,
   "id": "d8261346",
   "metadata": {},
   "outputs": [],
   "source": [
    "q = generate_random_numbers(10000, 100)"
   ]
  },
  {
   "cell_type": "code",
   "execution_count": 50,
   "id": "78b210d2",
   "metadata": {},
   "outputs": [
    {
     "name": "stdout",
     "output_type": "stream",
     "text": [
      "A. [18, 197, 1952, 1964, 1970, 2015, 2035, 2535, 2747, 2769, 279, 2928, 2930, 2972, 2986, 2995, 3025, 3040, 3250, 3423, 355, 3576, 3585, 3827, 407, 4101, 4193, 4339, 4341, 4528, 4957, 4974, 4975, 5161, 5226, 526, 537, 5528, 5570, 5644, 5662, 5680, 576, 5739, 5743, 5757, 5776, 5821, 5972, 6001, 6201, 6215, 6253, 6276, 6369, 637, 6407, 6466, 6576, 6615, 6659, 6734, 6760, 6888, 6939, 6978, 7122, 717, 7295, 7320, 7560, 762, 7681, 7923, 7967, 7974, 7986, 8101, 8135, 8195, 8207, 8239, 8283, 8292, 8317, 8358, 8472, 8570, 8623, 8689, 8692, 8735, 8833, 8856, 8954, 9001, 9028, 9044, 9122, 9151, 9181, 9227, 9252, 9271, 9318, 9350, 9389, 9439, 9478, 9515, 955, 9573, 9629]\n"
     ]
    }
   ],
   "source": [
    "print(ask_array_3(_model, str(q)))"
   ]
  },
  {
   "cell_type": "code",
   "execution_count": 51,
   "id": "651aaa9e",
   "metadata": {},
   "outputs": [],
   "source": [
    "def ask_array_4(model:str , array: str) -> str:\n",
    "    response = ollama.chat(model=model, messages=[\n",
    "        {\n",
    "            'role': 'system',\n",
    "            'content': \"\"\"you are a bot that order a given array in ascending order.\n",
    "            think step by step\n",
    "            e.g. Q. [6,1,7,3]\n",
    "                 A. [1,3,6,7]\n",
    "                 Q. [10,2,9,7]\n",
    "                 A. [2,7,9,10]\n",
    "                 \"\"\",\n",
    "        },\n",
    "        {\n",
    "            'role':'user',\n",
    "            'content' :\"Q. \"+array,\n",
    "        }\n",
    "    ])\n",
    "    return response['message']['content']"
   ]
  },
  {
   "cell_type": "code",
   "execution_count": 52,
   "id": "f25068fa",
   "metadata": {},
   "outputs": [
    {
     "name": "stdout",
     "output_type": "stream",
     "text": [
      "A big list!\n",
      "\n",
      "Okay, let's get started. I'll go through the array step by step and order it in ascending order.\n",
      "\n",
      "Here's the original array:\n",
      "[3746, 4341, 7122, 7295, 6369, 1762, 1088, 8008, 2769, 1861, 2995, 9318, 2535, 2832, 1150, 197, 9252, 4339, 8735, 5739, 1230, 9710, 526, 576, 7560, 4957, 4193, 6576, 993, 717, 9587, 418, 7681, 8135, 6407, 8692, 8833, 537, 9282, 5757, 3576, 4724, 6352, 1513, 6399, 158, 9439, 355, 7007, 4528, 3250, 6201, 6939, 8976, 279, 8207, 6615, 2297, 5532, 9478, 6466, 9629, 3827, 3423, 5620, 7974, 2930, 5226, 6839, 2015, 5644, 3490, 6978, 4975, 1964, 5471, 3040, 2686, 2896, 3008, 5528, 955, 4974, 407, 2747, 6659, 2972, 7320, 8186, 18, 6276, 762, 1970, 637, 7601, 3585, 1952, 4101, 2035, 5161]\n",
      "\n",
      "Now, I'll go through the array and reorder it in ascending order:\n",
      "\n",
      "1. 18\n",
      "2. 197\n",
      "3. 355\n",
      "4. 407\n",
      "5. 418\n",
      "6. 526\n",
      "7. 537\n",
      "8. 637\n",
      "9. 658 (nope, not found)\n",
      "10. 663 (not found either)\n",
      "11. ... and so on...\n",
      "\n",
      "Okay, let me continue:\n",
      "\n",
      "12. 955\n",
      "13. 960 (nope, not found)\n",
      "14. 964 (not found again)\n",
      "15. ...\n",
      "16. 1970\n",
      "17. 1964\n",
      "18. 1952\n",
      "19. 1893 (not found)\n",
      "20. ...\n",
      "21. 2015\n",
      "22. 2035\n",
      "23. 2297\n",
      "24. 2343 (nope, not found)\n",
      "25. ...\n",
      "\n",
      "And so on...\n",
      "\n",
      "After going through the array, I finally get to the end:\n",
      "\n",
      "1. 18\n",
      "2. 197\n",
      "3. 355\n",
      "4. 407\n",
      "5. 418\n",
      "6. 526\n",
      "7. 537\n",
      "8. 637\n",
      "9. 955\n",
      "10. 957 (not found)\n",
      "11. ...\n",
      "12. 9587\n",
      "13. 9629\n",
      "14. 9631 (nope, not found)\n",
      "15. ...\n",
      "16. 9710\n",
      "17. 9736 (not found)\n",
      "18. ...\n",
      "\n",
      "And finally:\n",
      "\n",
      "... all the way up to:\n",
      "\n",
      "9318\n",
      "\n",
      "And that's it! The array is now in ascending order:\n",
      "\n",
      "[18, 197, ... , 9318]\n",
      "\n",
      "Woohoo!\n"
     ]
    }
   ],
   "source": [
    "print(ask_array_4(_model, str(q)))"
   ]
  },
  {
   "cell_type": "code",
   "execution_count": null,
   "id": "f7ad8b95",
   "metadata": {},
   "outputs": [],
   "source": []
  }
 ],
 "metadata": {
  "kernelspec": {
   "display_name": "Python 3 (ipykernel)",
   "language": "python",
   "name": "python3"
  },
  "language_info": {
   "codemirror_mode": {
    "name": "ipython",
    "version": 3
   },
   "file_extension": ".py",
   "mimetype": "text/x-python",
   "name": "python",
   "nbconvert_exporter": "python",
   "pygments_lexer": "ipython3",
   "version": "3.9.17"
  }
 },
 "nbformat": 4,
 "nbformat_minor": 5
}
